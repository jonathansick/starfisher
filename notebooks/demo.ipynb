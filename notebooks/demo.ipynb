{
 "cells": [
  {
   "cell_type": "markdown",
   "metadata": {},
   "source": [
    "# Simulating Hess Diagrams with StarFISH"
   ]
  },
  {
   "cell_type": "code",
   "execution_count": 1,
   "metadata": {
    "collapsed": false
   },
   "outputs": [
    {
     "data": {
      "text/plain": [
       "'/Users/jsick/code/_starfish/starfish'"
      ]
     },
     "execution_count": 1,
     "metadata": {},
     "output_type": "execute_result"
    }
   ],
   "source": [
    "%matplotlib inline\n",
    "import os\n",
    "import numpy as np\n",
    "os.getenv(\"STARFISH\")"
   ]
  },
  {
   "cell_type": "markdown",
   "metadata": {},
   "source": [
    "## Download isochrones\n",
    "\n",
    "The [Padova package](http://github.com/jonathansick/padova) lets us quickly download a set of the Padova group's isochrones from the CMD website. Here we'll download a grid of isochrones to cover a set of WFC3 bands. (*Note: PHAT uses ACS for the optical bands*). Padova is able to export these isochrones into a format that StarFISH understands."
   ]
  },
  {
   "cell_type": "code",
   "execution_count": 2,
   "metadata": {
    "collapsed": true
   },
   "outputs": [],
   "source": [
    "isoc_dirname = \"padova_isoc\"\n",
    "full_isoc_dirname = os.path.join(os.getenv(\"STARFISH\"),\n",
    "                                 isoc_dirname)\n",
    "\n",
    "wfc3_bands = ['F275W1', 'F336W', 'F475W', 'F814W', 'F110W', 'F160W']\n",
    "# z_grid = [0.0002, 0.0003, 0.0004, 0.0005, 0.0006, 0.0007, 0.0008,\n",
    "#           0.001, 0.0012, 0.0016, 0.002, 0.0025, 0.0031, 0.0039, 0.0049, 0.0061, 0.0077, 0.0096,\n",
    "#           0.012, 0.015, 0.019, 0.024, 0.03]\n",
    "z_grid = [0.015]"
   ]
  },
  {
   "cell_type": "code",
   "execution_count": 3,
   "metadata": {
    "collapsed": false
   },
   "outputs": [
    {
     "name": "stdout",
     "output_type": "stream",
     "text": [
      "Reading from cache\n"
     ]
    }
   ],
   "source": [
    "import time\n",
    "from padova import AgeGridRequest\n",
    "for z in z_grid:\n",
    "    r = AgeGridRequest(z, min_log_age=6.6, max_log_age=10.13, delta_log_age=0.05,\n",
    "                       phot='wfc3', photsys_version='odfnew')\n",
    "    for isoc in r.isochrone_set:\n",
    "        isoc.export_for_starfish(full_isoc_dirname, bands=wfc3_bands)\n",
    "    # time.sleep(10)"
   ]
  },
  {
   "cell_type": "code",
   "execution_count": 4,
   "metadata": {
    "collapsed": false
   },
   "outputs": [
    {
     "name": "stdout",
     "output_type": "stream",
     "text": [
      "./mklib < wfc3_test/lib.dat\n"
     ]
    }
   ],
   "source": [
    "from astropy.coordinates import Distance\n",
    "import astropy.units as u\n",
    "\n",
    "from starfisher import LibraryBuilder\n",
    "\n",
    "input_dir = \"wfc3_test\"\n",
    "lib_dir = \"padova_lib\"\n",
    "d = Distance(785 * u.kpc)\n",
    "builder = LibraryBuilder(input_dir, isoc_dirname, lib_dir,\n",
    "                         nmag=len(wfc3_bands),\n",
    "                         dmod=d.distmod.value,\n",
    "                         iverb=3)\n",
    "builder.install()"
   ]
  },
  {
   "cell_type": "markdown",
   "metadata": {},
   "source": [
    "## Generating a synthetic Hess CMD library"
   ]
  },
  {
   "cell_type": "code",
   "execution_count": 5,
   "metadata": {
    "collapsed": false
   },
   "outputs": [
    {
     "name": "stderr",
     "output_type": "stream",
     "text": [
      "WARNING:root:No isochrones found in group 6.0000 6.4500 0150\n",
      "WARNING:root:Removing /Users/jsick/code/_starfish/starfish/wfc3_test/synth/z0150_06.73f475f814\n",
      "WARNING:root:Removing /Users/jsick/code/_starfish/starfish/wfc3_test/synth/z0150_07.10f475f814\n",
      "WARNING:root:Removing /Users/jsick/code/_starfish/starfish/wfc3_test/synth/z0150_07.55f475f814\n",
      "WARNING:root:Removing /Users/jsick/code/_starfish/starfish/wfc3_test/synth/z0150_08.00f475f814\n",
      "WARNING:root:Removing /Users/jsick/code/_starfish/starfish/wfc3_test/synth/z0150_08.45f475f814\n",
      "WARNING:root:Removing /Users/jsick/code/_starfish/starfish/wfc3_test/synth/z0150_08.90f475f814\n",
      "WARNING:root:Removing /Users/jsick/code/_starfish/starfish/wfc3_test/synth/z0150_09.35f475f814\n",
      "WARNING:root:Removing /Users/jsick/code/_starfish/starfish/wfc3_test/synth/z0150_09.80f475f814\n",
      "WARNING:root:Removing /Users/jsick/code/_starfish/starfish/wfc3_test/synth/z0150_10.07f475f814\n"
     ]
    },
    {
     "name": "stdout",
     "output_type": "stream",
     "text": [
      "./synth < wfc3_test/synth.dat\n"
     ]
    },
    {
     "name": "stderr",
     "output_type": "stream",
     "text": [
      "/Users/jsick/code/_starfish/starfisher/starfisher/plots.py:32: RuntimeWarning: divide by zero encountered in log10\n",
      "  ax.imshow(np.log10(hess), **_imshow)\n"
     ]
    }
   ],
   "source": [
    "from starfisher import Lockfile, Synth, ExtinctionDistribution, MockNullCrowdingTable, ColorPlane\n",
    "\n",
    "synth_dir = \"wfc3_test/synth\"\n",
    "crowd_path = \"wfc3_test/crowding.dat\"\n",
    "\n",
    "# Setup an isochrone locking scheme for 10 age bins\n",
    "# Only use one metallicity\n",
    "lockfile = Lockfile(builder, synth_dir)\n",
    "lockfile.lock_grid(np.linspace(6., 10.5, num=11),\n",
    "                   z_groups=[('0150',)])\n",
    "\n",
    "# No extinction\n",
    "young_av = ExtinctionDistribution()\n",
    "old_av = ExtinctionDistribution()\n",
    "rel_extinction = np.ones(len(wfc3_bands), dtype=float)\n",
    "for av in (young_av, old_av):\n",
    "    av.set_uniform(0.)\n",
    "\n",
    "# No photometric errors\n",
    "crowd = MockNullCrowdingTable(crowd_path, len(wfc3_bands))\n",
    "\n",
    "# Define colour planes to synthesize\n",
    "opt_cmd = ColorPlane((wfc3_bands.index('F475W'), wfc3_bands.index('F814W')),\n",
    "                     wfc3_bands.index('F814W'),\n",
    "                     (-1., 3.),\n",
    "                     (16., 30.),\n",
    "                     35.,\n",
    "                     suffix='f475f814',\n",
    "                     x_label='F475W-F814W',\n",
    "                     y_label='F814W')\n",
    "\n",
    "synth = Synth(input_dir, builder, lockfile, crowd,\n",
    "              rel_extinction, young_extinction=young_av, old_extinction=old_av,\n",
    "              planes=[opt_cmd])\n",
    "synth.run_synth(include_unlocked=False)\n",
    "synth.plot_all_hess('synth_hess')"
   ]
  },
  {
   "cell_type": "code",
   "execution_count": 18,
   "metadata": {
    "collapsed": false
   },
   "outputs": [
    {
     "name": "stdout",
     "output_type": "stream",
     "text": [
      "multipoly <starfisher.lockfile.LockPolygon object at 0x108388a90>\n",
      "\t[[ 6.45       -0.10266234]\n",
      " [ 6.45       -0.10266234]\n",
      " [ 6.9        -0.10266234]\n",
      " [ 6.9        -0.10266234]]\n",
      "multipoly <starfisher.lockfile.LockPolygon object at 0x108388990>\n",
      "\t[[ 6.9        -0.10266234]\n",
      " [ 6.9        -0.10266234]\n",
      " [ 7.35       -0.10266234]\n",
      " [ 7.35       -0.10266234]]\n",
      "multipoly <starfisher.lockfile.LockPolygon object at 0x108388b90>\n",
      "\t[[ 7.35       -0.10266234]\n",
      " [ 7.35       -0.10266234]\n",
      " [ 7.8        -0.10266234]\n",
      " [ 7.8        -0.10266234]]\n",
      "multipoly <starfisher.lockfile.LockPolygon object at 0x108388b10>\n",
      "\t[[ 7.8        -0.10266234]\n",
      " [ 7.8        -0.10266234]\n",
      " [ 8.25       -0.10266234]\n",
      " [ 8.25       -0.10266234]]\n",
      "multipoly <starfisher.lockfile.LockPolygon object at 0x108388810>\n",
      "\t[[ 8.25       -0.10266234]\n",
      " [ 8.25       -0.10266234]\n",
      " [ 8.7        -0.10266234]\n",
      " [ 8.7        -0.10266234]]\n",
      "multipoly <starfisher.lockfile.LockPolygon object at 0x108388550>\n",
      "\t[[ 8.7        -0.10266234]\n",
      " [ 8.7        -0.10266234]\n",
      " [ 9.15       -0.10266234]\n",
      " [ 9.15       -0.10266234]]\n",
      "multipoly <starfisher.lockfile.LockPolygon object at 0x108388650>\n",
      "\t[[ 9.15       -0.10266234]\n",
      " [ 9.15       -0.10266234]\n",
      " [ 9.6        -0.10266234]\n",
      " [ 9.6        -0.10266234]]\n",
      "multipoly <starfisher.lockfile.LockPolygon object at 0x108388c10>\n",
      "\t[[  9.6         -0.10266234]\n",
      " [  9.6         -0.10266234]\n",
      " [ 10.05        -0.10266234]\n",
      " [ 10.05        -0.10266234]]\n",
      "multipoly <starfisher.lockfile.LockPolygon object at 0x108388c50>\n",
      "\t[[ 10.05        -0.10266234]\n",
      " [ 10.05        -0.10266234]\n",
      " [ 10.5         -0.10266234]\n",
      " [ 10.5         -0.10266234]]\n"
     ]
    },
    {
     "data": {
      "text/plain": [
       "array([  6.6 ,   6.65,   6.7 ,   6.75,   6.8 ,   6.85,   6.9 ,   6.95,\n",
       "         7.  ,   7.05,   7.1 ,   7.15,   7.2 ,   7.25,   7.3 ,   7.35,\n",
       "         7.4 ,   7.45,   7.5 ,   7.55,   7.6 ,   7.65,   7.7 ,   7.75,\n",
       "         7.8 ,   7.85,   7.9 ,   7.95,   8.  ,   8.05,   8.1 ,   8.15,\n",
       "         8.2 ,   8.25,   8.3 ,   8.35,   8.4 ,   8.45,   8.5 ,   8.55,\n",
       "         8.6 ,   8.65,   8.7 ,   8.75,   8.8 ,   8.85,   8.9 ,   8.95,\n",
       "         9.  ,   9.05,   9.1 ,   9.15,   9.2 ,   9.25,   9.3 ,   9.35,\n",
       "         9.4 ,   9.45,   9.5 ,   9.55,   9.6 ,   9.65,   9.7 ,   9.75,\n",
       "         9.8 ,   9.85,   9.9 ,   9.95,  10.  ,  10.05,  10.1 ])"
      ]
     },
     "execution_count": 18,
     "metadata": {},
     "output_type": "execute_result"
    },
    {
     "data": {
      "image/png": "[encoded data removed]",
      "text/plain": [
       "<matplotlib.figure.Figure at 0x107c06f90>"
      ]
     },
     "metadata": {},
     "output_type": "display_data"
    }
   ],
   "source": [
    "import matplotlib.pyplot as plt\n",
    "import matplotlib as mpl\n",
    "\n",
    "from starfisher.plots import plot_isochrone_logage_logzsol, plot_lock_polygons\n",
    "\n",
    "fig = plt.figure(figsize=(6.5, 4), dpi=300)\n",
    "gs = mpl.gridspec.GridSpec(1, 1)\n",
    "ax = fig.add_subplot(gs[0])\n",
    "\n",
    "plot_isochrone_logage_logzsol(ax, builder, marker='.', s=20)\n",
    "plot_lock_polygons(ax, lockfile)\n",
    "\n",
    "for gyr in range(1, 14):\n",
    "    ax.axvline(np.log10(gyr * 1e9), c='b', alpha=0.5, zorder=-1)\n",
    "\n",
    "ax.set_xlim(6., 11)\n",
    "ax.set_ylim(-2, 0.5)\n",
    "ax.set_xlabel(r\"$\\log(A)$\")\n",
    "ax.set_ylabel(r\"$\\log(Z/Z_\\odot)$\")\n",
    "fig.show()\n",
    "\n",
    "builder.isoc_logages"
   ]
  },
  {
   "cell_type": "code",
   "execution_count": null,
   "metadata": {
    "collapsed": true
   },
   "outputs": [],
   "source": []
  }
 ],
 "metadata": {
  "kernelspec": {
   "display_name": "Python 2",
   "language": "python",
   "name": "python2"
  },
  "language_info": {
   "codemirror_mode": {
    "name": "ipython",
    "version": 2
   },
   "file_extension": ".py",
   "mimetype": "text/x-python",
   "name": "python",
   "nbconvert_exporter": "python",
   "pygments_lexer": "ipython2",
   "version": "2.7.8"
  }
 },
 "nbformat": 4,
 "nbformat_minor": 0
}
