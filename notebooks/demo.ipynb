{
 "cells": [
  {
   "cell_type": "markdown",
   "metadata": {},
   "source": [
    "# Simulating Hess Diagrams with StarFISH"
   ]
  },
  {
   "cell_type": "code",
   "execution_count": 1,
   "metadata": {
    "collapsed": false
   },
   "outputs": [
    {
     "data": {
      "text/plain": [
       "'/Users/jsick/code/_starfish/starfish'"
      ]
     },
     "execution_count": 1,
     "metadata": {},
     "output_type": "execute_result"
    }
   ],
   "source": [
    "%matplotlib inline\n",
    "import os\n",
    "import numpy as np\n",
    "os.getenv(\"STARFISH\")"
   ]
  },
  {
   "cell_type": "markdown",
   "metadata": {},
   "source": [
    "## Download isochrones\n",
    "\n",
    "The [Padova package](http://github.com/jonathansick/padova) lets us quickly download a set of the Padova group's isochrones from the CMD website. Here we'll download a grid of isochrones to cover a set of WFC3 bands. (*Note: PHAT uses ACS for the optical bands*). Padova is able to export these isochrones into a format that StarFISH understands."
   ]
  },
  {
   "cell_type": "code",
   "execution_count": 2,
   "metadata": {
    "collapsed": true
   },
   "outputs": [],
   "source": [
    "isoc_dirname = \"padova_isoc\"\n",
    "full_isoc_dirname = os.path.join(os.getenv(\"STARFISH\"),\n",
    "                                 isoc_dirname)\n",
    "\n",
    "wfc3_bands = ['F275W1', 'F336W', 'F475W', 'F814W', 'F110W', 'F160W']\n",
    "# z_grid = [0.0002, 0.0003, 0.0004, 0.0005, 0.0006, 0.0007, 0.0008,\n",
    "#           0.001, 0.0012, 0.0016, 0.002, 0.0025, 0.0031, 0.0039, 0.0049, 0.0061, 0.0077, 0.0096,\n",
    "#           0.012, 0.015, 0.019, 0.024, 0.03]\n",
    "# z_grid = [0.015]\n",
    "z_grid = [0.0096, 0.012, 0.015, 0.019, 0.024, 0.03]"
   ]
  },
  {
   "cell_type": "code",
   "execution_count": 3,
   "metadata": {
    "collapsed": false
   },
   "outputs": [
    {
     "name": "stdout",
     "output_type": "stream",
     "text": [
      "Reading from cache\n",
      "Reading from cache\n",
      "Reading from cache\n",
      "Reading from cache\n",
      "Reading from cache\n",
      "Reading from cache\n"
     ]
    }
   ],
   "source": [
    "import time\n",
    "from padova import AgeGridRequest\n",
    "for z in z_grid:\n",
    "    r = AgeGridRequest(z, min_log_age=6.6, max_log_age=10.13, delta_log_age=0.05,\n",
    "                       phot='wfc3', photsys_version='odfnew')\n",
    "    for isoc in r.isochrone_set:\n",
    "        isoc.export_for_starfish(full_isoc_dirname, bands=wfc3_bands)\n",
    "    # time.sleep(10)"
   ]
  },
  {
   "cell_type": "code",
   "execution_count": null,
   "metadata": {
    "collapsed": false
   },
   "outputs": [
    {
     "name": "stdout",
     "output_type": "stream",
     "text": [
      "./mklib < wfc3_test/lib.dat\n"
     ]
    }
   ],
   "source": [
    "from astropy.coordinates import Distance\n",
    "import astropy.units as u\n",
    "\n",
    "from starfisher import LibraryBuilder\n",
    "\n",
    "input_dir = \"wfc3_test\"\n",
    "lib_dir = \"padova_lib\"\n",
    "d = Distance(785 * u.kpc)\n",
    "builder = LibraryBuilder(input_dir, isoc_dirname, lib_dir,\n",
    "                         nmag=len(wfc3_bands),\n",
    "                         dmod=d.distmod.value,\n",
    "                         iverb=3)\n",
    "builder.install()"
   ]
  },
  {
   "cell_type": "markdown",
   "metadata": {},
   "source": [
    "## Generating a synthetic Hess CMD library"
   ]
  },
  {
   "cell_type": "code",
   "execution_count": null,
   "metadata": {
    "collapsed": false
   },
   "outputs": [],
   "source": [
    "from starfisher import Lockfile, Synth, ExtinctionDistribution, MockNullCrowdingTable, ColorPlane\n",
    "\n",
    "synth_dir = \"wfc3_test/synth\"\n",
    "crowd_path = \"wfc3_test/crowding.dat\"\n",
    "\n",
    "# Setup an isochrone locking scheme for 12 age bins\n",
    "# Only use one metallicity\n",
    "lockfile = Lockfile(builder, synth_dir)\n",
    "lockfile.lock_grid(np.linspace(6.4, 10.5, num=12),\n",
    "                   z_groups=[('0096', '0120'),\n",
    "                             ('0150', '0190'),\n",
    "                             ('0240', '0300')])\n",
    "\n",
    "# No extinction\n",
    "young_av = ExtinctionDistribution()\n",
    "old_av = ExtinctionDistribution()\n",
    "rel_extinction = np.ones(len(wfc3_bands), dtype=float)\n",
    "for av in (young_av, old_av):\n",
    "    av.set_uniform(0.)\n",
    "\n",
    "# No photometric errors\n",
    "crowd = MockNullCrowdingTable(crowd_path, len(wfc3_bands))\n",
    "\n",
    "# Define colour planes to synthesize\n",
    "opt_cmd = ColorPlane((wfc3_bands.index('F475W'), wfc3_bands.index('F814W')),\n",
    "                     wfc3_bands.index('F814W'),\n",
    "                     (-1., 3.),\n",
    "                     (16., 30.),\n",
    "                     35.,\n",
    "                     suffix='f475f814',\n",
    "                     x_label='F475W-F814W',\n",
    "                     y_label='F814W')\n",
    "\n",
    "synth = Synth(input_dir, builder, lockfile, crowd,\n",
    "              rel_extinction, young_extinction=young_av, old_extinction=old_av,\n",
    "              planes=[opt_cmd])\n",
    "synth.run_synth(include_unlocked=False)\n",
    "synth.plot_all_hess('synth_hess')"
   ]
  },
  {
   "cell_type": "code",
   "execution_count": null,
   "metadata": {
    "collapsed": false
   },
   "outputs": [],
   "source": [
    "import matplotlib.pyplot as plt\n",
    "import matplotlib as mpl\n",
    "\n",
    "from starfisher.plots import plot_isochrone_logage_logzsol, plot_lock_polygons\n",
    "\n",
    "fig = plt.figure(figsize=(6.5, 4), dpi=300)\n",
    "gs = mpl.gridspec.GridSpec(1, 1)\n",
    "ax = fig.add_subplot(gs[0])\n",
    "\n",
    "plot_isochrone_logage_logzsol(ax, builder, marker='.', s=20)\n",
    "plot_lock_polygons(ax, lockfile, facecolor='None')\n",
    "\n",
    "for gyr in range(1, 14):\n",
    "    ax.axvline(np.log10(gyr * 1e9), c='b', alpha=0.5, zorder=-1)\n",
    "\n",
    "ax.set_xlim(6., 11)\n",
    "ax.set_ylim(-2, 0.5)\n",
    "ax.set_xlabel(r\"$\\log(A)$\")\n",
    "ax.set_ylabel(r\"$\\log(Z/Z_\\odot)$\")\n",
    "fig.show()\n",
    "\n",
    "builder.isoc_logages"
   ]
  },
  {
   "cell_type": "code",
   "execution_count": null,
   "metadata": {
    "collapsed": false
   },
   "outputs": [],
   "source": [
    "for multipoly in lockfile.group_polygons:\n",
    "    print \"==\"\n",
    "    for verts in multipoly.logage_logzsol_verts:\n",
    "        print verts"
   ]
  },
  {
   "cell_type": "code",
   "execution_count": null,
   "metadata": {
    "collapsed": true
   },
   "outputs": [],
   "source": []
  }
 ],
 "metadata": {
  "kernelspec": {
   "display_name": "Python 2",
   "language": "python",
   "name": "python2"
  },
  "language_info": {
   "codemirror_mode": {
    "name": "ipython",
    "version": 2
   },
   "file_extension": ".py",
   "mimetype": "text/x-python",
   "name": "python",
   "nbconvert_exporter": "python",
   "pygments_lexer": "ipython2",
   "version": "2.7.8"
  }
 },
 "nbformat": 4,
 "nbformat_minor": 0
}
