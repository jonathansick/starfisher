{
 "cells": [
  {
   "cell_type": "markdown",
   "metadata": {},
   "source": [
    "# Simulating Hess Diagrams with StarFISH"
   ]
  },
  {
   "cell_type": "code",
   "execution_count": 1,
   "metadata": {
    "collapsed": false
   },
   "outputs": [
    {
     "data": {
      "text/plain": [
       "'/Users/jsick/code/_starfish/starfish'"
      ]
     },
     "execution_count": 1,
     "metadata": {},
     "output_type": "execute_result"
    }
   ],
   "source": [
    "%matplotlib inline\n",
    "import os\n",
    "os.getenv(\"STARFISH\")"
   ]
  },
  {
   "cell_type": "markdown",
   "metadata": {},
   "source": [
    "## Download isochrones\n",
    "\n",
    "The [Padova package](http://github.com/jonathansick/padova) lets us quickly download a set of the Padova group's isochrones from the CMD website. Here we'll download a grid of isochrones to cover a set of WFC3 bands. (*Note: PHAT uses ACS for the optical bands*). Padova is able to export these isochrones into a format that StarFISH understands."
   ]
  },
  {
   "cell_type": "code",
   "execution_count": 2,
   "metadata": {
    "collapsed": true
   },
   "outputs": [],
   "source": [
    "isoc_dirname = \"padova_isoc\"\n",
    "full_isoc_dirname = os.path.join(os.getenv(\"STARFISH\"),\n",
    "                                 isoc_dirname)\n",
    "\n",
    "wfc3_bands = ['F275W', 'F336W', 'F475W', 'F814W', 'F110W', 'F160W']\n",
    "# z_grid = [0.0002, 0.0003, 0.0004, 0.0005, 0.0006, 0.0007, 0.0008,\n",
    "#           0.001, 0.0012, 0.0016, 0.002, 0.0025, 0.0031, 0.0039, 0.0049, 0.0061, 0.0077, 0.0096,\n",
    "#           0.012, 0.015, 0.019, 0.024, 0.03]\n",
    "z_grid = [0.019]"
   ]
  },
  {
   "cell_type": "code",
   "execution_count": 3,
   "metadata": {
    "collapsed": false
   },
   "outputs": [
    {
     "name": "stdout",
     "output_type": "stream",
     "text": [
      "Reading from cache\n"
     ]
    }
   ],
   "source": [
    "import time\n",
    "from padova import AgeGridRequest\n",
    "for z in z_grid:\n",
    "    r = AgeGridRequest(z, min_log_age=6.6, max_log_age=10.13, delta_log_age=0.05,\n",
    "                       phot='wfc3', photsys_version='odfnew')\n",
    "    for isoc in r.tables.isochrones:\n",
    "        isoc.export_for_starfish(full_isoc_dirname, bands=wfc3_bands)\n",
    "    # time.sleep(10)"
   ]
  },
  {
   "cell_type": "code",
   "execution_count": 4,
   "metadata": {
    "collapsed": false
   },
   "outputs": [
    {
     "name": "stdout",
     "output_type": "stream",
     "text": [
      "full_isofile_path /Users/jsick/code/_starfish/starfish/wfc3_test/isofile\n"
     ]
    }
   ],
   "source": [
    "from starfisher import LibraryBuilder\n",
    "\n",
    "input_dir = \"wfc3_test\"\n",
    "lib_dir = \"padova_lib\"\n",
    "builder = LibraryBuilder(input_dir, isoc_dirname, lib_dir, nmag=len(wfc3_bands))\n",
    "builder.install()\n"
   ]
  },
  {
   "cell_type": "markdown",
   "metadata": {},
   "source": [
    "## Generating a synthetic Hess CMD library"
   ]
  },
  {
   "cell_type": "code",
   "execution_count": null,
   "metadata": {
    "collapsed": true
   },
   "outputs": [],
   "source": [
    "from starfisher import Lockfile, Synth, ExtinctionDistribution\n",
    "synth_dir = \"wfc3_test/synth\"\n"
   ]
  }
 ],
 "metadata": {
  "kernelspec": {
   "display_name": "Python 2",
   "language": "python",
   "name": "python2"
  },
  "language_info": {
   "codemirror_mode": {
    "name": "ipython",
    "version": 2
   },
   "file_extension": ".py",
   "mimetype": "text/x-python",
   "name": "python",
   "nbconvert_exporter": "python",
   "pygments_lexer": "ipython2",
   "version": "2.7.8"
  }
 },
 "nbformat": 4,
 "nbformat_minor": 0
}
