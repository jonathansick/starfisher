{
 "cells": [
  {
   "cell_type": "markdown",
   "metadata": {},
   "source": [
    "# Simulating Hess Diagrams with StarFISH"
   ]
  },
  {
   "cell_type": "code",
   "execution_count": 1,
   "metadata": {
    "collapsed": false
   },
   "outputs": [
    {
     "data": {
      "text/plain": [
       "'/Users/jsick/code/_starfish/starfish'"
      ]
     },
     "execution_count": 1,
     "metadata": {},
     "output_type": "execute_result"
    }
   ],
   "source": [
    "%matplotlib inline\n",
    "import os\n",
    "import numpy as np\n",
    "os.getenv(\"STARFISH\")"
   ]
  },
  {
   "cell_type": "markdown",
   "metadata": {},
   "source": [
    "## Download isochrones\n",
    "\n",
    "The [Padova package](http://github.com/jonathansick/padova) lets us quickly download a set of the Padova group's isochrones from the CMD website. Here we'll download a grid of isochrones to cover a set of WFC3 bands. (*Note: PHAT uses ACS for the optical bands*). Padova is able to export these isochrones into a format that StarFISH understands."
   ]
  },
  {
   "cell_type": "code",
   "execution_count": 2,
   "metadata": {
    "collapsed": true
   },
   "outputs": [],
   "source": [
    "isoc_dirname = \"padova_isoc\"\n",
    "full_isoc_dirname = os.path.join(os.getenv(\"STARFISH\"),\n",
    "                                 isoc_dirname)\n",
    "\n",
    "wfc3_bands = ['F275W', 'F336W', 'F475W', 'F814W', 'F110W', 'F160W']\n",
    "# z_grid = [0.0002, 0.0003, 0.0004, 0.0005, 0.0006, 0.0007, 0.0008,\n",
    "#           0.001, 0.0012, 0.0016, 0.002, 0.0025, 0.0031, 0.0039, 0.0049, 0.0061, 0.0077, 0.0096,\n",
    "#           0.012, 0.015, 0.019, 0.024, 0.03]\n",
    "z_grid = [0.019]"
   ]
  },
  {
   "cell_type": "code",
   "execution_count": 3,
   "metadata": {
    "collapsed": false
   },
   "outputs": [
    {
     "name": "stdout",
     "output_type": "stream",
     "text": [
      "Reading from cache\n"
     ]
    }
   ],
   "source": [
    "import time\n",
    "from padova import AgeGridRequest\n",
    "for z in z_grid:\n",
    "    r = AgeGridRequest(z, min_log_age=6.6, max_log_age=10.13, delta_log_age=0.05,\n",
    "                       phot='wfc3', photsys_version='odfnew')\n",
    "    for isoc in r.tables.isochrones:\n",
    "        isoc.export_for_starfish(full_isoc_dirname, bands=wfc3_bands)\n",
    "    # time.sleep(10)"
   ]
  },
  {
   "cell_type": "code",
   "execution_count": 4,
   "metadata": {
    "collapsed": false
   },
   "outputs": [],
   "source": [
    "from starfisher import LibraryBuilder\n",
    "\n",
    "input_dir = \"wfc3_test\"\n",
    "lib_dir = \"padova_lib\"\n",
    "builder = LibraryBuilder(input_dir, isoc_dirname, lib_dir, nmag=len(wfc3_bands))\n",
    "# builder.install()\n"
   ]
  },
  {
   "cell_type": "markdown",
   "metadata": {},
   "source": [
    "## Generating a synthetic Hess CMD library"
   ]
  },
  {
   "cell_type": "code",
   "execution_count": 5,
   "metadata": {
    "collapsed": false
   },
   "outputs": [
    {
     "name": "stderr",
     "output_type": "stream",
     "text": [
      "WARNING:root:Can't find wfc3_test/synth/z0002_06.78\n",
      "WARNING:root:Can't find wfc3_test/synth/z0002_07.22\n",
      "WARNING:root:Can't find wfc3_test/synth/z0002_07.72\n",
      "WARNING:root:Can't find wfc3_test/synth/z0002_08.22\n",
      "WARNING:root:Can't find wfc3_test/synth/z0002_08.72\n",
      "WARNING:root:Can't find wfc3_test/synth/z0002_09.22\n",
      "WARNING:root:Can't find wfc3_test/synth/z0002_09.72\n",
      "WARNING:root:Can't find wfc3_test/synth/z0002_10.05\n",
      "WARNING:root:Can't find wfc3_test/synth/z0003_06.78\n",
      "WARNING:root:Can't find wfc3_test/synth/z0003_07.22\n",
      "WARNING:root:Can't find wfc3_test/synth/z0003_07.72\n",
      "WARNING:root:Can't find wfc3_test/synth/z0003_08.22\n",
      "WARNING:root:Can't find wfc3_test/synth/z0003_08.72\n",
      "WARNING:root:Can't find wfc3_test/synth/z0003_09.22\n",
      "WARNING:root:Can't find wfc3_test/synth/z0003_09.72\n",
      "WARNING:root:Can't find wfc3_test/synth/z0003_10.05\n",
      "WARNING:root:Can't find wfc3_test/synth/z0004_06.78\n",
      "WARNING:root:Can't find wfc3_test/synth/z0004_07.22\n",
      "WARNING:root:Can't find wfc3_test/synth/z0004_07.72\n",
      "WARNING:root:Can't find wfc3_test/synth/z0004_08.22\n",
      "WARNING:root:Can't find wfc3_test/synth/z0004_08.72\n",
      "WARNING:root:Can't find wfc3_test/synth/z0004_09.22\n",
      "WARNING:root:Can't find wfc3_test/synth/z0004_09.72\n",
      "WARNING:root:Can't find wfc3_test/synth/z0004_10.05\n",
      "WARNING:root:Can't find wfc3_test/synth/z0005_06.78\n",
      "WARNING:root:Can't find wfc3_test/synth/z0005_07.22\n",
      "WARNING:root:Can't find wfc3_test/synth/z0005_07.72\n",
      "WARNING:root:Can't find wfc3_test/synth/z0005_08.22\n",
      "WARNING:root:Can't find wfc3_test/synth/z0005_08.72\n",
      "WARNING:root:Can't find wfc3_test/synth/z0005_09.22\n",
      "WARNING:root:Can't find wfc3_test/synth/z0005_09.72\n",
      "WARNING:root:Can't find wfc3_test/synth/z0005_10.05\n",
      "WARNING:root:Can't find wfc3_test/synth/z0006_06.78\n",
      "WARNING:root:Can't find wfc3_test/synth/z0006_07.22\n",
      "WARNING:root:Can't find wfc3_test/synth/z0006_07.72\n",
      "WARNING:root:Can't find wfc3_test/synth/z0006_08.22\n",
      "WARNING:root:Can't find wfc3_test/synth/z0006_08.72\n",
      "WARNING:root:Can't find wfc3_test/synth/z0006_09.22\n",
      "WARNING:root:Can't find wfc3_test/synth/z0006_09.72\n",
      "WARNING:root:Can't find wfc3_test/synth/z0006_10.05\n",
      "WARNING:root:Can't find wfc3_test/synth/z0007_06.78\n",
      "WARNING:root:Can't find wfc3_test/synth/z0007_07.22\n",
      "WARNING:root:Can't find wfc3_test/synth/z0007_07.72\n",
      "WARNING:root:Can't find wfc3_test/synth/z0007_08.22\n",
      "WARNING:root:Can't find wfc3_test/synth/z0007_08.72\n",
      "WARNING:root:Can't find wfc3_test/synth/z0007_09.22\n",
      "WARNING:root:Can't find wfc3_test/synth/z0007_09.72\n",
      "WARNING:root:Can't find wfc3_test/synth/z0007_10.05\n",
      "WARNING:root:Can't find wfc3_test/synth/z0008_06.78\n",
      "WARNING:root:Can't find wfc3_test/synth/z0008_07.22\n",
      "WARNING:root:Can't find wfc3_test/synth/z0008_07.72\n",
      "WARNING:root:Can't find wfc3_test/synth/z0008_08.22\n",
      "WARNING:root:Can't find wfc3_test/synth/z0008_08.72\n",
      "WARNING:root:Can't find wfc3_test/synth/z0008_09.22\n",
      "WARNING:root:Can't find wfc3_test/synth/z0008_09.72\n",
      "WARNING:root:Can't find wfc3_test/synth/z0008_10.05\n",
      "WARNING:root:Can't find wfc3_test/synth/z0010_06.78\n",
      "WARNING:root:Can't find wfc3_test/synth/z0010_07.22\n",
      "WARNING:root:Can't find wfc3_test/synth/z0010_07.72\n",
      "WARNING:root:Can't find wfc3_test/synth/z0010_08.22\n",
      "WARNING:root:Can't find wfc3_test/synth/z0010_08.72\n",
      "WARNING:root:Can't find wfc3_test/synth/z0010_09.22\n",
      "WARNING:root:Can't find wfc3_test/synth/z0010_09.72\n",
      "WARNING:root:Can't find wfc3_test/synth/z0010_10.05\n",
      "WARNING:root:Can't find wfc3_test/synth/z0012_06.78\n",
      "WARNING:root:Can't find wfc3_test/synth/z0012_07.22\n",
      "WARNING:root:Can't find wfc3_test/synth/z0012_07.72\n",
      "WARNING:root:Can't find wfc3_test/synth/z0012_08.22\n",
      "WARNING:root:Can't find wfc3_test/synth/z0012_08.72\n",
      "WARNING:root:Can't find wfc3_test/synth/z0012_09.22\n",
      "WARNING:root:Can't find wfc3_test/synth/z0012_09.72\n",
      "WARNING:root:Can't find wfc3_test/synth/z0012_10.05\n",
      "WARNING:root:Can't find wfc3_test/synth/z0016_06.78\n",
      "WARNING:root:Can't find wfc3_test/synth/z0016_07.22\n",
      "WARNING:root:Can't find wfc3_test/synth/z0016_07.72\n",
      "WARNING:root:Can't find wfc3_test/synth/z0016_08.22\n",
      "WARNING:root:Can't find wfc3_test/synth/z0016_08.72\n",
      "WARNING:root:Can't find wfc3_test/synth/z0016_09.22\n",
      "WARNING:root:Can't find wfc3_test/synth/z0016_09.72\n",
      "WARNING:root:Can't find wfc3_test/synth/z0016_10.05\n",
      "WARNING:root:Can't find wfc3_test/synth/z0020_06.78\n",
      "WARNING:root:Can't find wfc3_test/synth/z0020_07.22\n",
      "WARNING:root:Can't find wfc3_test/synth/z0020_07.72\n",
      "WARNING:root:Can't find wfc3_test/synth/z0020_08.22\n",
      "WARNING:root:Can't find wfc3_test/synth/z0020_08.72\n",
      "WARNING:root:Can't find wfc3_test/synth/z0020_09.22\n",
      "WARNING:root:Can't find wfc3_test/synth/z0020_09.72\n",
      "WARNING:root:Can't find wfc3_test/synth/z0020_10.05\n",
      "WARNING:root:Can't find wfc3_test/synth/z0025_06.78\n",
      "WARNING:root:Can't find wfc3_test/synth/z0025_07.22\n",
      "WARNING:root:Can't find wfc3_test/synth/z0025_07.72\n",
      "WARNING:root:Can't find wfc3_test/synth/z0025_08.22\n",
      "WARNING:root:Can't find wfc3_test/synth/z0025_08.72\n",
      "WARNING:root:Can't find wfc3_test/synth/z0025_09.22\n",
      "WARNING:root:Can't find wfc3_test/synth/z0025_09.72\n",
      "WARNING:root:Can't find wfc3_test/synth/z0025_10.05\n",
      "WARNING:root:Can't find wfc3_test/synth/z0031_06.78\n",
      "WARNING:root:Can't find wfc3_test/synth/z0031_07.22\n",
      "WARNING:root:Can't find wfc3_test/synth/z0031_07.72\n",
      "WARNING:root:Can't find wfc3_test/synth/z0031_08.22\n",
      "WARNING:root:Can't find wfc3_test/synth/z0031_08.72\n",
      "WARNING:root:Can't find wfc3_test/synth/z0031_09.22\n",
      "WARNING:root:Can't find wfc3_test/synth/z0031_09.72\n",
      "WARNING:root:Can't find wfc3_test/synth/z0031_10.05\n",
      "WARNING:root:Can't find wfc3_test/synth/z0039_06.78\n",
      "WARNING:root:Can't find wfc3_test/synth/z0039_07.22\n",
      "WARNING:root:Can't find wfc3_test/synth/z0039_07.72\n",
      "WARNING:root:Can't find wfc3_test/synth/z0039_08.22\n",
      "WARNING:root:Can't find wfc3_test/synth/z0039_08.72\n",
      "WARNING:root:Can't find wfc3_test/synth/z0039_09.22\n",
      "WARNING:root:Can't find wfc3_test/synth/z0039_09.72\n",
      "WARNING:root:Can't find wfc3_test/synth/z0039_10.05\n",
      "WARNING:root:Can't find wfc3_test/synth/z0049_06.78\n",
      "WARNING:root:Can't find wfc3_test/synth/z0049_07.22\n",
      "WARNING:root:Can't find wfc3_test/synth/z0049_07.72\n",
      "WARNING:root:Can't find wfc3_test/synth/z0049_08.22\n",
      "WARNING:root:Can't find wfc3_test/synth/z0049_08.72\n",
      "WARNING:root:Can't find wfc3_test/synth/z0049_09.22\n",
      "WARNING:root:Can't find wfc3_test/synth/z0049_09.72\n",
      "WARNING:root:Can't find wfc3_test/synth/z0049_10.05\n",
      "WARNING:root:Can't find wfc3_test/synth/z0061_06.78\n",
      "WARNING:root:Can't find wfc3_test/synth/z0061_07.22\n",
      "WARNING:root:Can't find wfc3_test/synth/z0061_07.72\n",
      "WARNING:root:Can't find wfc3_test/synth/z0061_08.22\n",
      "WARNING:root:Can't find wfc3_test/synth/z0061_08.72\n",
      "WARNING:root:Can't find wfc3_test/synth/z0061_09.22\n",
      "WARNING:root:Can't find wfc3_test/synth/z0061_09.72\n",
      "WARNING:root:Can't find wfc3_test/synth/z0061_10.05\n",
      "WARNING:root:Can't find wfc3_test/synth/z0077_06.78\n",
      "WARNING:root:Can't find wfc3_test/synth/z0077_07.22\n",
      "WARNING:root:Can't find wfc3_test/synth/z0077_07.72\n",
      "WARNING:root:Can't find wfc3_test/synth/z0077_08.22\n",
      "WARNING:root:Can't find wfc3_test/synth/z0077_08.72\n",
      "WARNING:root:Can't find wfc3_test/synth/z0077_09.22\n",
      "WARNING:root:Can't find wfc3_test/synth/z0077_09.72\n",
      "WARNING:root:Can't find wfc3_test/synth/z0077_10.05\n",
      "WARNING:root:Can't find wfc3_test/synth/z0080_06.78\n",
      "WARNING:root:Can't find wfc3_test/synth/z0080_07.22\n",
      "WARNING:root:Can't find wfc3_test/synth/z0080_07.72\n",
      "WARNING:root:Can't find wfc3_test/synth/z0080_08.22\n",
      "WARNING:root:Can't find wfc3_test/synth/z0080_08.72\n",
      "WARNING:root:Can't find wfc3_test/synth/z0080_09.22\n",
      "WARNING:root:Can't find wfc3_test/synth/z0080_09.72\n",
      "WARNING:root:Can't find wfc3_test/synth/z0080_10.05\n",
      "WARNING:root:Can't find wfc3_test/synth/z0096_06.78\n",
      "WARNING:root:Can't find wfc3_test/synth/z0096_07.22\n",
      "WARNING:root:Can't find wfc3_test/synth/z0096_07.72\n",
      "WARNING:root:Can't find wfc3_test/synth/z0096_08.22\n",
      "WARNING:root:Can't find wfc3_test/synth/z0096_08.72\n",
      "WARNING:root:Can't find wfc3_test/synth/z0096_09.22\n",
      "WARNING:root:Can't find wfc3_test/synth/z0096_09.72\n",
      "WARNING:root:Can't find wfc3_test/synth/z0096_10.05\n",
      "WARNING:root:Can't find wfc3_test/synth/z0120_06.78\n",
      "WARNING:root:Can't find wfc3_test/synth/z0120_07.22\n",
      "WARNING:root:Can't find wfc3_test/synth/z0120_07.72\n",
      "WARNING:root:Can't find wfc3_test/synth/z0120_08.22\n",
      "WARNING:root:Can't find wfc3_test/synth/z0120_08.72\n",
      "WARNING:root:Can't find wfc3_test/synth/z0120_09.22\n",
      "WARNING:root:Can't find wfc3_test/synth/z0120_09.72\n",
      "WARNING:root:Can't find wfc3_test/synth/z0120_10.05\n",
      "WARNING:root:Can't find wfc3_test/synth/z0150_06.78\n",
      "WARNING:root:Can't find wfc3_test/synth/z0150_07.22\n",
      "WARNING:root:Can't find wfc3_test/synth/z0150_07.72\n",
      "WARNING:root:Can't find wfc3_test/synth/z0150_08.22\n",
      "WARNING:root:Can't find wfc3_test/synth/z0150_08.72\n",
      "WARNING:root:Can't find wfc3_test/synth/z0150_09.22\n",
      "WARNING:root:Can't find wfc3_test/synth/z0150_09.72\n",
      "WARNING:root:Can't find wfc3_test/synth/z0150_10.05\n",
      "WARNING:root:Can't find wfc3_test/synth/z0190_06.78\n",
      "WARNING:root:Can't find wfc3_test/synth/z0190_07.22\n",
      "WARNING:root:Can't find wfc3_test/synth/z0190_07.72\n",
      "WARNING:root:Can't find wfc3_test/synth/z0190_08.22\n",
      "WARNING:root:Can't find wfc3_test/synth/z0190_08.72\n",
      "WARNING:root:Can't find wfc3_test/synth/z0190_09.22\n",
      "WARNING:root:Can't find wfc3_test/synth/z0190_09.72\n",
      "WARNING:root:Can't find wfc3_test/synth/z0190_10.05\n",
      "WARNING:root:Can't find wfc3_test/synth/z0240_06.78\n",
      "WARNING:root:Can't find wfc3_test/synth/z0240_07.22\n",
      "WARNING:root:Can't find wfc3_test/synth/z0240_07.72\n",
      "WARNING:root:Can't find wfc3_test/synth/z0240_08.22\n",
      "WARNING:root:Can't find wfc3_test/synth/z0240_08.72\n",
      "WARNING:root:Can't find wfc3_test/synth/z0240_09.22\n",
      "WARNING:root:Can't find wfc3_test/synth/z0240_09.72\n",
      "WARNING:root:Can't find wfc3_test/synth/z0240_10.05\n",
      "WARNING:root:Can't find wfc3_test/synth/z0300_06.78\n",
      "WARNING:root:Can't find wfc3_test/synth/z0300_07.22\n",
      "WARNING:root:Can't find wfc3_test/synth/z0300_07.72\n",
      "WARNING:root:Can't find wfc3_test/synth/z0300_08.22\n",
      "WARNING:root:Can't find wfc3_test/synth/z0300_08.72\n",
      "WARNING:root:Can't find wfc3_test/synth/z0300_09.22\n",
      "WARNING:root:Can't find wfc3_test/synth/z0300_09.72\n",
      "WARNING:root:Can't find wfc3_test/synth/z0300_10.05\n"
     ]
    }
   ],
   "source": [
    "from starfisher import Lockfile, Synth, ExtinctionDistribution, MockNullCrowdingTable\n",
    "\n",
    "synth_dir = \"wfc3_test/synth\"\n",
    "crowd_path = \"wfc3_test/crowding.dat\"\n",
    "\n",
    "# Setup an isochrone locking scheme for 10 age bins\n",
    "lockfile = Lockfile(builder, synth_dir)\n",
    "lockfile.lock_grid(np.linspace(6., 10.5, num=10))\n",
    "\n",
    "# No extinction\n",
    "young_av = ExtinctionDistribution()\n",
    "old_av = ExtinctionDistribution()\n",
    "rel_extinction = np.ones(len(wfc3_bands), dtype=float)\n",
    "for av in (young_av, old_av):\n",
    "    av.set_uniform(0.)\n",
    "\n",
    "# No photometric errors\n",
    "crowd = MockNullCrowdingTable(crowd_path, len(wfc3_bands))\n",
    "\n",
    "synth = Synth(input_dir, builder, lockfile, crowd,\n",
    "              rel_extinction, young_extinction=young_av, old_extinction=old_av)\n",
    "synth.add_cmd((wfc3_bands.index('F475W'), wfc3_bands.index('F814W')),\n",
    "              wfc3_bands.index('F814W'),\n",
    "              (-1., 4.),\n",
    "              (16., 32.),\n",
    "              35.,\n",
    "              'f475f814',\n",
    "              'F475W-F814W',\n",
    "              'F814W')\n",
    "# synth.run_synth(include_unlocked=False)\n",
    "synth.plot_all_hess('synth_hess', flipy=True)"
   ]
  },
  {
   "cell_type": "code",
   "execution_count": null,
   "metadata": {
    "collapsed": true
   },
   "outputs": [],
   "source": []
  }
 ],
 "metadata": {
  "kernelspec": {
   "display_name": "Python 2",
   "language": "python",
   "name": "python2"
  },
  "language_info": {
   "codemirror_mode": {
    "name": "ipython",
    "version": 2
   },
   "file_extension": ".py",
   "mimetype": "text/x-python",
   "name": "python",
   "nbconvert_exporter": "python",
   "pygments_lexer": "ipython2",
   "version": "2.7.8"
  }
 },
 "nbformat": 4,
 "nbformat_minor": 0
}
